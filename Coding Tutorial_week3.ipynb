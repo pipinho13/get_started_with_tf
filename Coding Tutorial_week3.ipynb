{
 "cells": [
  {
   "cell_type": "code",
   "execution_count": 1,
   "metadata": {
    "scrolled": true
   },
   "outputs": [
    {
     "name": "stdout",
     "output_type": "stream",
     "text": [
      "2.0.0\n"
     ]
    }
   ],
   "source": [
    "import tensorflow as tf\n",
    "print(tf.__version__)"
   ]
  },
  {
   "cell_type": "markdown",
   "metadata": {},
   "source": [
    "# Validation, regularisation and callbacks"
   ]
  },
  {
   "cell_type": "markdown",
   "metadata": {},
   "source": [
    " ## Coding tutorials\n",
    " #### [1. Validation sets](#coding_tutorial_1)\n",
    " #### [2. Model regularisation](#coding_tutorial_2)\n",
    " #### [3. Introduction to callbacks](#coding_tutorial_3)\n",
    " #### [4. Early stopping / patience](#coding_tutorial_4)"
   ]
  },
  {
   "cell_type": "markdown",
   "metadata": {},
   "source": [
    "***\n",
    "<a id=\"coding_tutorial_1\"></a>\n",
    "## Validation sets"
   ]
  },
  {
   "cell_type": "markdown",
   "metadata": {},
   "source": [
    "#### Load the data"
   ]
  },
  {
   "cell_type": "code",
   "execution_count": 2,
   "metadata": {},
   "outputs": [
    {
     "name": "stdout",
     "output_type": "stream",
     "text": [
      ".. _diabetes_dataset:\n",
      "\n",
      "Diabetes dataset\n",
      "----------------\n",
      "\n",
      "Ten baseline variables, age, sex, body mass index, average blood\n",
      "pressure, and six blood serum measurements were obtained for each of n =\n",
      "442 diabetes patients, as well as the response of interest, a\n",
      "quantitative measure of disease progression one year after baseline.\n",
      "\n",
      "**Data Set Characteristics:**\n",
      "\n",
      "  :Number of Instances: 442\n",
      "\n",
      "  :Number of Attributes: First 10 columns are numeric predictive values\n",
      "\n",
      "  :Target: Column 11 is a quantitative measure of disease progression one year after baseline\n",
      "\n",
      "  :Attribute Information:\n",
      "      - Age\n",
      "      - Sex\n",
      "      - Body mass index\n",
      "      - Average blood pressure\n",
      "      - S1\n",
      "      - S2\n",
      "      - S3\n",
      "      - S4\n",
      "      - S5\n",
      "      - S6\n",
      "\n",
      "Note: Each of these 10 feature variables have been mean centered and scaled by the standard deviation times `n_samples` (i.e. the sum of squares of each column totals 1).\n",
      "\n",
      "Source URL:\n",
      "http://www4.stat.ncsu.edu/~boos/var.select/diabetes.html\n",
      "\n",
      "For more information see:\n",
      "Bradley Efron, Trevor Hastie, Iain Johnstone and Robert Tibshirani (2004) \"Least Angle Regression,\" Annals of Statistics (with discussion), 407-499.\n",
      "(http://web.stanford.edu/~hastie/Papers/LARS/LeastAngle_2002.pdf)\n"
     ]
    }
   ],
   "source": [
    "# Load the diabetes dataset\n",
    "\n",
    "from sklearn.datasets import load_diabetes\n",
    "\n",
    "diabetes_dataset = load_diabetes()\n",
    "\n",
    "print(diabetes_dataset['DESCR'])"
   ]
  },
  {
   "cell_type": "code",
   "execution_count": 3,
   "metadata": {},
   "outputs": [],
   "source": [
    "# Save the input and target variables\n",
    "\n",
    "data = diabetes_dataset['data']\n",
    "targets = diabetes_dataset['target']"
   ]
  },
  {
   "cell_type": "code",
   "execution_count": 4,
   "metadata": {},
   "outputs": [],
   "source": [
    "# Normalise the target data (this will make clearer training curves)\n",
    "\n",
    "targets = (targets-targets.mean(axis=0))/targets.std()"
   ]
  },
  {
   "cell_type": "code",
   "execution_count": 5,
   "metadata": {},
   "outputs": [
    {
     "name": "stdout",
     "output_type": "stream",
     "text": [
      "(397, 10)\n",
      "(45, 10)\n"
     ]
    }
   ],
   "source": [
    "# Split the data into train and test sets\n",
    "\n",
    "from sklearn.model_selection import train_test_split\n",
    "\n",
    "train_data, test_data, train_targets, test_targets = train_test_split(data, targets, test_size=0.1)\n",
    "\n",
    "print(train_data.shape)\n",
    "print(test_data.shape)"
   ]
  },
  {
   "cell_type": "markdown",
   "metadata": {},
   "source": [
    "#### Train a feedforward neural network model"
   ]
  },
  {
   "cell_type": "code",
   "execution_count": 6,
   "metadata": {},
   "outputs": [],
   "source": [
    "# Build the model\n",
    "\n",
    "from tensorflow.keras.models import Sequential\n",
    "from tensorflow.keras.layers import Dense\n",
    "\n",
    "def get_model():\n",
    "    model = Sequential([\n",
    "        Dense(128, activation='relu', input_shape=(train_data.shape[1],)),\n",
    "        Dense(128, activation='relu'),\n",
    "        Dense(128, activation='relu'),\n",
    "        Dense(128, activation='relu'),\n",
    "        Dense(128, activation='relu'),\n",
    "        Dense(128, activation='relu'),\n",
    "        Dense(1)\n",
    "    ])\n",
    "    return model\n",
    "\n",
    "\n",
    "model = get_model()"
   ]
  },
  {
   "cell_type": "code",
   "execution_count": 7,
   "metadata": {},
   "outputs": [
    {
     "name": "stdout",
     "output_type": "stream",
     "text": [
      "Model: \"sequential\"\n",
      "_________________________________________________________________\n",
      "Layer (type)                 Output Shape              Param #   \n",
      "=================================================================\n",
      "dense (Dense)                (None, 128)               1408      \n",
      "_________________________________________________________________\n",
      "dense_1 (Dense)              (None, 128)               16512     \n",
      "_________________________________________________________________\n",
      "dense_2 (Dense)              (None, 128)               16512     \n",
      "_________________________________________________________________\n",
      "dense_3 (Dense)              (None, 128)               16512     \n",
      "_________________________________________________________________\n",
      "dense_4 (Dense)              (None, 128)               16512     \n",
      "_________________________________________________________________\n",
      "dense_5 (Dense)              (None, 128)               16512     \n",
      "_________________________________________________________________\n",
      "dense_6 (Dense)              (None, 1)                 129       \n",
      "=================================================================\n",
      "Total params: 84,097\n",
      "Trainable params: 84,097\n",
      "Non-trainable params: 0\n",
      "_________________________________________________________________\n"
     ]
    }
   ],
   "source": [
    "# Print the model summary\n",
    "\n",
    "model.summary()\n"
   ]
  },
  {
   "cell_type": "code",
   "execution_count": 8,
   "metadata": {},
   "outputs": [],
   "source": [
    "# Compile the model\n",
    "\n",
    "model.compile(optimizer='adam', loss='mse', metrics=['mae'])"
   ]
  },
  {
   "cell_type": "code",
   "execution_count": 9,
   "metadata": {},
   "outputs": [
    {
     "name": "stdout",
     "output_type": "stream",
     "text": [
      "Train on 337 samples, validate on 60 samples\n",
      "Epoch 1/100\n",
      "337/337 - 2s - loss: 0.9406 - mae: 0.8281 - val_loss: 1.1070 - val_mae: 0.8816\n",
      "Epoch 2/100\n",
      "337/337 - 0s - loss: 0.8576 - mae: 0.7941 - val_loss: 0.8621 - val_mae: 0.7791\n",
      "Epoch 3/100\n",
      "337/337 - 0s - loss: 0.6826 - mae: 0.7195 - val_loss: 0.6299 - val_mae: 0.6767\n",
      "Epoch 4/100\n",
      "337/337 - 0s - loss: 0.5299 - mae: 0.6059 - val_loss: 0.4994 - val_mae: 0.5609\n",
      "Epoch 5/100\n",
      "337/337 - 0s - loss: 0.4917 - mae: 0.5717 - val_loss: 0.6257 - val_mae: 0.6320\n",
      "Epoch 6/100\n",
      "337/337 - 0s - loss: 0.4972 - mae: 0.5598 - val_loss: 0.5564 - val_mae: 0.6033\n",
      "Epoch 7/100\n",
      "337/337 - 0s - loss: 0.4649 - mae: 0.5738 - val_loss: 0.6701 - val_mae: 0.6504\n",
      "Epoch 8/100\n",
      "337/337 - 0s - loss: 0.4745 - mae: 0.5477 - val_loss: 0.5079 - val_mae: 0.5667\n",
      "Epoch 9/100\n",
      "337/337 - 0s - loss: 0.4456 - mae: 0.5535 - val_loss: 0.5778 - val_mae: 0.6164\n",
      "Epoch 10/100\n",
      "337/337 - 0s - loss: 0.4656 - mae: 0.5470 - val_loss: 0.5053 - val_mae: 0.5743\n",
      "Epoch 11/100\n",
      "337/337 - 0s - loss: 0.4604 - mae: 0.5535 - val_loss: 0.4826 - val_mae: 0.5498\n",
      "Epoch 12/100\n",
      "337/337 - 0s - loss: 0.4343 - mae: 0.5295 - val_loss: 0.5157 - val_mae: 0.5709\n",
      "Epoch 13/100\n",
      "337/337 - 0s - loss: 0.4245 - mae: 0.5349 - val_loss: 0.4830 - val_mae: 0.5505\n",
      "Epoch 14/100\n",
      "337/337 - 0s - loss: 0.3966 - mae: 0.5145 - val_loss: 0.5574 - val_mae: 0.5819\n",
      "Epoch 15/100\n",
      "337/337 - 0s - loss: 0.4172 - mae: 0.5146 - val_loss: 0.4874 - val_mae: 0.5443\n",
      "Epoch 16/100\n",
      "337/337 - 0s - loss: 0.3986 - mae: 0.5165 - val_loss: 0.5198 - val_mae: 0.5506\n",
      "Epoch 17/100\n",
      "337/337 - 0s - loss: 0.4048 - mae: 0.4976 - val_loss: 0.4750 - val_mae: 0.5280\n",
      "Epoch 18/100\n",
      "337/337 - 0s - loss: 0.4038 - mae: 0.5200 - val_loss: 0.5064 - val_mae: 0.5516\n",
      "Epoch 19/100\n",
      "337/337 - 0s - loss: 0.4038 - mae: 0.5026 - val_loss: 0.4767 - val_mae: 0.5242\n",
      "Epoch 20/100\n",
      "337/337 - 0s - loss: 0.3804 - mae: 0.5020 - val_loss: 0.4723 - val_mae: 0.5294\n",
      "Epoch 21/100\n",
      "337/337 - 0s - loss: 0.3817 - mae: 0.4965 - val_loss: 0.4870 - val_mae: 0.5318\n",
      "Epoch 22/100\n",
      "337/337 - 0s - loss: 0.3752 - mae: 0.5017 - val_loss: 0.4819 - val_mae: 0.5218\n",
      "Epoch 23/100\n",
      "337/337 - 0s - loss: 0.3827 - mae: 0.4865 - val_loss: 0.4784 - val_mae: 0.5203\n",
      "Epoch 24/100\n",
      "337/337 - 0s - loss: 0.3956 - mae: 0.5106 - val_loss: 0.5296 - val_mae: 0.5543\n",
      "Epoch 25/100\n",
      "337/337 - 0s - loss: 0.3890 - mae: 0.4892 - val_loss: 0.4665 - val_mae: 0.5264\n",
      "Epoch 26/100\n",
      "337/337 - 0s - loss: 0.4101 - mae: 0.5266 - val_loss: 0.4764 - val_mae: 0.5249\n",
      "Epoch 27/100\n",
      "337/337 - 0s - loss: 0.4028 - mae: 0.5010 - val_loss: 0.5332 - val_mae: 0.5723\n",
      "Epoch 28/100\n",
      "337/337 - 0s - loss: 0.3714 - mae: 0.4947 - val_loss: 0.4712 - val_mae: 0.5356\n",
      "Epoch 29/100\n",
      "337/337 - 0s - loss: 0.3427 - mae: 0.4702 - val_loss: 0.4940 - val_mae: 0.5199\n",
      "Epoch 30/100\n",
      "337/337 - 0s - loss: 0.3447 - mae: 0.4622 - val_loss: 0.4635 - val_mae: 0.5107\n",
      "Epoch 31/100\n",
      "337/337 - 0s - loss: 0.3310 - mae: 0.4622 - val_loss: 0.5052 - val_mae: 0.5376\n",
      "Epoch 32/100\n",
      "337/337 - 0s - loss: 0.3200 - mae: 0.4531 - val_loss: 0.4675 - val_mae: 0.4989\n",
      "Epoch 33/100\n",
      "337/337 - 0s - loss: 0.3165 - mae: 0.4481 - val_loss: 0.4978 - val_mae: 0.5099\n",
      "Epoch 34/100\n",
      "337/337 - 0s - loss: 0.3146 - mae: 0.4413 - val_loss: 0.4893 - val_mae: 0.5243\n",
      "Epoch 35/100\n",
      "337/337 - 0s - loss: 0.3097 - mae: 0.4515 - val_loss: 0.5000 - val_mae: 0.5203\n",
      "Epoch 36/100\n",
      "337/337 - 0s - loss: 0.3133 - mae: 0.4447 - val_loss: 0.4552 - val_mae: 0.4992\n",
      "Epoch 37/100\n",
      "337/337 - 0s - loss: 0.2918 - mae: 0.4347 - val_loss: 0.5213 - val_mae: 0.5292\n",
      "Epoch 38/100\n",
      "337/337 - 0s - loss: 0.2894 - mae: 0.4245 - val_loss: 0.4867 - val_mae: 0.5056\n",
      "Epoch 39/100\n",
      "337/337 - 0s - loss: 0.2810 - mae: 0.4157 - val_loss: 0.4511 - val_mae: 0.4970\n",
      "Epoch 40/100\n",
      "337/337 - 0s - loss: 0.2922 - mae: 0.4311 - val_loss: 0.5085 - val_mae: 0.5291\n",
      "Epoch 41/100\n",
      "337/337 - 0s - loss: 0.2700 - mae: 0.4123 - val_loss: 0.4863 - val_mae: 0.5049\n",
      "Epoch 42/100\n",
      "337/337 - 0s - loss: 0.2527 - mae: 0.3960 - val_loss: 0.5314 - val_mae: 0.5208\n",
      "Epoch 43/100\n",
      "337/337 - 0s - loss: 0.2589 - mae: 0.3988 - val_loss: 0.4828 - val_mae: 0.5107\n",
      "Epoch 44/100\n",
      "337/337 - 0s - loss: 0.2516 - mae: 0.3938 - val_loss: 0.4853 - val_mae: 0.5121\n",
      "Epoch 45/100\n",
      "337/337 - 0s - loss: 0.2325 - mae: 0.3807 - val_loss: 0.4957 - val_mae: 0.4824\n",
      "Epoch 46/100\n",
      "337/337 - 0s - loss: 0.2394 - mae: 0.3798 - val_loss: 0.5167 - val_mae: 0.5188\n",
      "Epoch 47/100\n",
      "337/337 - 0s - loss: 0.2650 - mae: 0.4154 - val_loss: 0.5107 - val_mae: 0.5168\n",
      "Epoch 48/100\n",
      "337/337 - 0s - loss: 0.2427 - mae: 0.3901 - val_loss: 0.5539 - val_mae: 0.5510\n",
      "Epoch 49/100\n",
      "337/337 - 0s - loss: 0.2379 - mae: 0.3881 - val_loss: 0.6765 - val_mae: 0.6168\n",
      "Epoch 50/100\n",
      "337/337 - 0s - loss: 0.2528 - mae: 0.4043 - val_loss: 0.4950 - val_mae: 0.4910\n",
      "Epoch 51/100\n",
      "337/337 - 0s - loss: 0.2510 - mae: 0.3870 - val_loss: 0.5005 - val_mae: 0.5230\n",
      "Epoch 52/100\n",
      "337/337 - 0s - loss: 0.2343 - mae: 0.3892 - val_loss: 0.5610 - val_mae: 0.5656\n",
      "Epoch 53/100\n",
      "337/337 - 0s - loss: 0.2020 - mae: 0.3576 - val_loss: 0.4991 - val_mae: 0.4966\n",
      "Epoch 54/100\n",
      "337/337 - 0s - loss: 0.1870 - mae: 0.3345 - val_loss: 0.4955 - val_mae: 0.4980\n",
      "Epoch 55/100\n",
      "337/337 - 0s - loss: 0.1805 - mae: 0.3309 - val_loss: 0.5183 - val_mae: 0.5197\n",
      "Epoch 56/100\n",
      "337/337 - 0s - loss: 0.1679 - mae: 0.3232 - val_loss: 0.5447 - val_mae: 0.5244\n",
      "Epoch 57/100\n",
      "337/337 - 0s - loss: 0.1625 - mae: 0.3143 - val_loss: 0.5500 - val_mae: 0.5425\n",
      "Epoch 58/100\n",
      "337/337 - 0s - loss: 0.1609 - mae: 0.3142 - val_loss: 0.5932 - val_mae: 0.5699\n",
      "Epoch 59/100\n",
      "337/337 - 0s - loss: 0.1539 - mae: 0.3079 - val_loss: 0.5636 - val_mae: 0.5435\n",
      "Epoch 60/100\n",
      "337/337 - 0s - loss: 0.1447 - mae: 0.2916 - val_loss: 0.5778 - val_mae: 0.5514\n",
      "Epoch 61/100\n",
      "337/337 - 0s - loss: 0.1358 - mae: 0.2849 - val_loss: 0.5909 - val_mae: 0.5573\n",
      "Epoch 62/100\n",
      "337/337 - 0s - loss: 0.1322 - mae: 0.2794 - val_loss: 0.5591 - val_mae: 0.5302\n",
      "Epoch 63/100\n",
      "337/337 - 0s - loss: 0.1305 - mae: 0.2745 - val_loss: 0.5326 - val_mae: 0.5156\n",
      "Epoch 64/100\n",
      "337/337 - 0s - loss: 0.1242 - mae: 0.2651 - val_loss: 0.5677 - val_mae: 0.5412\n",
      "Epoch 65/100\n",
      "337/337 - 0s - loss: 0.1261 - mae: 0.2694 - val_loss: 0.5938 - val_mae: 0.5499\n",
      "Epoch 66/100\n",
      "337/337 - 0s - loss: 0.1171 - mae: 0.2573 - val_loss: 0.5743 - val_mae: 0.5492\n",
      "Epoch 67/100\n",
      "337/337 - 0s - loss: 0.1241 - mae: 0.2709 - val_loss: 0.5763 - val_mae: 0.5672\n",
      "Epoch 68/100\n",
      "337/337 - 0s - loss: 0.1180 - mae: 0.2597 - val_loss: 0.6288 - val_mae: 0.5807\n",
      "Epoch 69/100\n",
      "337/337 - 0s - loss: 0.1219 - mae: 0.2678 - val_loss: 0.6259 - val_mae: 0.5635\n",
      "Epoch 70/100\n",
      "337/337 - 0s - loss: 0.1086 - mae: 0.2511 - val_loss: 0.5972 - val_mae: 0.5514\n",
      "Epoch 71/100\n",
      "337/337 - 0s - loss: 0.1088 - mae: 0.2490 - val_loss: 0.6038 - val_mae: 0.5491\n",
      "Epoch 72/100\n",
      "337/337 - 0s - loss: 0.1185 - mae: 0.2665 - val_loss: 0.6254 - val_mae: 0.5600\n",
      "Epoch 73/100\n",
      "337/337 - 0s - loss: 0.1201 - mae: 0.2603 - val_loss: 0.5946 - val_mae: 0.5689\n",
      "Epoch 74/100\n",
      "337/337 - 0s - loss: 0.1220 - mae: 0.2687 - val_loss: 0.6277 - val_mae: 0.5915\n",
      "Epoch 75/100\n",
      "337/337 - 0s - loss: 0.1297 - mae: 0.2749 - val_loss: 0.6177 - val_mae: 0.5866\n",
      "Epoch 76/100\n",
      "337/337 - 0s - loss: 0.1126 - mae: 0.2535 - val_loss: 0.6162 - val_mae: 0.5630\n",
      "Epoch 77/100\n",
      "337/337 - 0s - loss: 0.1151 - mae: 0.2618 - val_loss: 0.6179 - val_mae: 0.5703\n",
      "Epoch 78/100\n",
      "337/337 - 0s - loss: 0.0956 - mae: 0.2235 - val_loss: 0.5804 - val_mae: 0.5531\n",
      "Epoch 79/100\n",
      "337/337 - 0s - loss: 0.0926 - mae: 0.2176 - val_loss: 0.6760 - val_mae: 0.6189\n",
      "Epoch 80/100\n",
      "337/337 - 0s - loss: 0.1033 - mae: 0.2428 - val_loss: 0.6429 - val_mae: 0.6000\n",
      "Epoch 81/100\n",
      "337/337 - 0s - loss: 0.0951 - mae: 0.2245 - val_loss: 0.7318 - val_mae: 0.6493\n",
      "Epoch 82/100\n",
      "337/337 - 0s - loss: 0.1202 - mae: 0.2691 - val_loss: 0.7066 - val_mae: 0.6299\n",
      "Epoch 83/100\n",
      "337/337 - 0s - loss: 0.1045 - mae: 0.2395 - val_loss: 0.6374 - val_mae: 0.5957\n",
      "Epoch 84/100\n",
      "337/337 - 0s - loss: 0.0867 - mae: 0.2071 - val_loss: 0.5944 - val_mae: 0.5726\n",
      "Epoch 85/100\n",
      "337/337 - 0s - loss: 0.0777 - mae: 0.1924 - val_loss: 0.6262 - val_mae: 0.5894\n",
      "Epoch 86/100\n",
      "337/337 - 0s - loss: 0.0774 - mae: 0.1910 - val_loss: 0.6855 - val_mae: 0.6180\n",
      "Epoch 87/100\n",
      "337/337 - 0s - loss: 0.0786 - mae: 0.2003 - val_loss: 0.6774 - val_mae: 0.6193\n",
      "Epoch 88/100\n",
      "337/337 - 0s - loss: 0.0819 - mae: 0.2128 - val_loss: 0.7899 - val_mae: 0.6772\n",
      "Epoch 89/100\n",
      "337/337 - 0s - loss: 0.1170 - mae: 0.2745 - val_loss: 0.7428 - val_mae: 0.6587\n",
      "Epoch 90/100\n",
      "337/337 - 0s - loss: 0.1050 - mae: 0.2467 - val_loss: 0.5943 - val_mae: 0.5819\n",
      "Epoch 91/100\n",
      "337/337 - 0s - loss: 0.0788 - mae: 0.2014 - val_loss: 0.5800 - val_mae: 0.5585\n",
      "Epoch 92/100\n",
      "337/337 - 0s - loss: 0.0869 - mae: 0.2194 - val_loss: 0.6051 - val_mae: 0.5742\n",
      "Epoch 93/100\n",
      "337/337 - 0s - loss: 0.0738 - mae: 0.1887 - val_loss: 0.6298 - val_mae: 0.5977\n",
      "Epoch 94/100\n",
      "337/337 - 0s - loss: 0.0645 - mae: 0.1713 - val_loss: 0.6567 - val_mae: 0.6115\n",
      "Epoch 95/100\n",
      "337/337 - 0s - loss: 0.0630 - mae: 0.1665 - val_loss: 0.6349 - val_mae: 0.5961\n",
      "Epoch 96/100\n",
      "337/337 - 0s - loss: 0.0582 - mae: 0.1637 - val_loss: 0.6986 - val_mae: 0.6299\n",
      "Epoch 97/100\n",
      "337/337 - 0s - loss: 0.0629 - mae: 0.1711 - val_loss: 0.6500 - val_mae: 0.6002\n",
      "Epoch 98/100\n",
      "337/337 - 0s - loss: 0.0547 - mae: 0.1608 - val_loss: 0.6814 - val_mae: 0.6239\n",
      "Epoch 99/100\n",
      "337/337 - 0s - loss: 0.0554 - mae: 0.1684 - val_loss: 0.7059 - val_mae: 0.6389\n",
      "Epoch 100/100\n",
      "337/337 - 0s - loss: 0.0504 - mae: 0.1530 - val_loss: 0.6648 - val_mae: 0.6228\n"
     ]
    }
   ],
   "source": [
    "# Train the model, with some of the data reserved for validation\n",
    "\n",
    "history = model.fit(train_data, train_targets, epochs=100, validation_split=0.15, batch_size=64, verbose=2)"
   ]
  },
  {
   "cell_type": "code",
   "execution_count": 10,
   "metadata": {},
   "outputs": [
    {
     "name": "stdout",
     "output_type": "stream",
     "text": [
      "45/1 - 0s - loss: 0.6049 - mae: 0.6895\n"
     ]
    },
    {
     "data": {
      "text/plain": [
       "[0.8439923988448249, 0.6895481]"
      ]
     },
     "execution_count": 10,
     "metadata": {},
     "output_type": "execute_result"
    }
   ],
   "source": [
    "# Evaluate the model on the test set\n",
    "\n",
    "model.evaluate(test_data, test_targets, verbose=2)"
   ]
  },
  {
   "cell_type": "markdown",
   "metadata": {},
   "source": [
    "#### Plot the learning curves"
   ]
  },
  {
   "cell_type": "code",
   "execution_count": 11,
   "metadata": {},
   "outputs": [],
   "source": [
    "import matplotlib.pyplot as plt\n",
    "%matplotlib inline"
   ]
  },
  {
   "cell_type": "code",
   "execution_count": 12,
   "metadata": {},
   "outputs": [
    {
     "data": {
      "image/png": "[encoded data removed]",
      "text/plain": [
       "<Figure size 432x288 with 1 Axes>"
      ]
     },
     "metadata": {
      "needs_background": "light"
     },
     "output_type": "display_data"
    }
   ],
   "source": [
    "# Plot the training and validation loss\n",
    "\n",
    "plt.plot(history.history['loss'])\n",
    "plt.plot(history.history['val_loss'])\n",
    "plt.title('Loss vs. epochs')\n",
    "plt.ylabel('Loss')\n",
    "plt.xlabel('Epoch')\n",
    "plt.legend(['Training', 'Validation'], loc='upper right')\n",
    "plt.show()"
   ]
  },
  {
   "cell_type": "markdown",
   "metadata": {},
   "source": [
    "***\n",
    "<a id=\"coding_tutorial_2\"></a>\n",
    "## Model regularisation"
   ]
  },
  {
   "cell_type": "markdown",
   "metadata": {},
   "source": [
    "#### Adding regularisation with weight decay and dropout"
   ]
  },
  {
   "cell_type": "code",
   "execution_count": 13,
   "metadata": {},
   "outputs": [],
   "source": [
    "from tensorflow.keras.layers import Dropout\n",
    "from tensorflow.keras import regularizers"
   ]
  },
  {
   "cell_type": "code",
   "execution_count": 14,
   "metadata": {},
   "outputs": [],
   "source": [
    "def get_regularised_model(wd, rate):\n",
    "    model = Sequential([\n",
    "        Dense(128, kernel_regularizer=regularizers.l2(wd), activation=\"relu\", input_shape=(train_data.shape[1],)),\n",
    "        Dropout(rate),\n",
    "        Dense(128, kernel_regularizer=regularizers.l2(wd), activation=\"relu\"),\n",
    "        Dropout(rate),\n",
    "        Dense(128, kernel_regularizer=regularizers.l2(wd), activation=\"relu\"),\n",
    "        Dropout(rate),\n",
    "        Dense(128, kernel_regularizer=regularizers.l2(wd), activation=\"relu\"),\n",
    "        Dropout(rate),\n",
    "        Dense(128, kernel_regularizer=regularizers.l2(wd), activation=\"relu\"),\n",
    "        Dropout(rate),\n",
    "        Dense(128, kernel_regularizer=regularizers.l2(wd), activation=\"relu\"),\n",
    "        Dense(1)\n",
    "    ])\n",
    "    return model"
   ]
  },
  {
   "cell_type": "code",
   "execution_count": 15,
   "metadata": {},
   "outputs": [],
   "source": [
    "# Re-build the model with weight decay and dropout layers\n",
    "\n",
    "model = get_regularised_model(0.00001, 0.3)\n"
   ]
  },
  {
   "cell_type": "code",
   "execution_count": 16,
   "metadata": {},
   "outputs": [],
   "source": [
    "# Compile the model\n",
    "model.compile(optimizer='adam', loss='mse', metrics=['mae'])\n"
   ]
  },
  {
   "cell_type": "code",
   "execution_count": 17,
   "metadata": {},
   "outputs": [
    {
     "name": "stdout",
     "output_type": "stream",
     "text": [
      "Train on 337 samples, validate on 60 samples\n",
      "Epoch 1/100\n",
      "337/337 - 2s - loss: 0.9545 - mae: 0.8315 - val_loss: 1.1756 - val_mae: 0.9035\n",
      "Epoch 2/100\n",
      "337/337 - 0s - loss: 0.9374 - mae: 0.8218 - val_loss: 1.1260 - val_mae: 0.8838\n",
      "Epoch 3/100\n",
      "337/337 - 0s - loss: 0.8824 - mae: 0.7967 - val_loss: 0.9403 - val_mae: 0.8089\n",
      "Epoch 4/100\n",
      "337/337 - 0s - loss: 0.7314 - mae: 0.7235 - val_loss: 0.6380 - val_mae: 0.6657\n",
      "Epoch 5/100\n",
      "337/337 - 0s - loss: 0.6264 - mae: 0.6452 - val_loss: 0.5329 - val_mae: 0.5837\n",
      "Epoch 6/100\n",
      "337/337 - 0s - loss: 0.5971 - mae: 0.6153 - val_loss: 0.5450 - val_mae: 0.5965\n",
      "Epoch 7/100\n",
      "337/337 - 0s - loss: 0.5579 - mae: 0.6053 - val_loss: 0.5677 - val_mae: 0.6229\n",
      "Epoch 8/100\n",
      "337/337 - 0s - loss: 0.5378 - mae: 0.6141 - val_loss: 0.5617 - val_mae: 0.6206\n",
      "Epoch 9/100\n",
      "337/337 - 0s - loss: 0.5091 - mae: 0.5772 - val_loss: 0.5444 - val_mae: 0.5970\n",
      "Epoch 10/100\n",
      "337/337 - 0s - loss: 0.5413 - mae: 0.5912 - val_loss: 0.5740 - val_mae: 0.5934\n",
      "Epoch 11/100\n",
      "337/337 - 0s - loss: 0.4978 - mae: 0.5696 - val_loss: 0.5555 - val_mae: 0.5965\n",
      "Epoch 12/100\n",
      "337/337 - 0s - loss: 0.5078 - mae: 0.5773 - val_loss: 0.5909 - val_mae: 0.6172\n",
      "Epoch 13/100\n",
      "337/337 - 0s - loss: 0.4725 - mae: 0.5594 - val_loss: 0.5800 - val_mae: 0.6160\n",
      "Epoch 14/100\n",
      "337/337 - 0s - loss: 0.4786 - mae: 0.5621 - val_loss: 0.5863 - val_mae: 0.6118\n",
      "Epoch 15/100\n",
      "337/337 - 0s - loss: 0.4991 - mae: 0.5666 - val_loss: 0.5973 - val_mae: 0.6200\n",
      "Epoch 16/100\n",
      "337/337 - 0s - loss: 0.4941 - mae: 0.5622 - val_loss: 0.5644 - val_mae: 0.6044\n",
      "Epoch 17/100\n",
      "337/337 - 0s - loss: 0.4867 - mae: 0.5685 - val_loss: 0.5805 - val_mae: 0.6153\n",
      "Epoch 18/100\n",
      "337/337 - 0s - loss: 0.4597 - mae: 0.5513 - val_loss: 0.5414 - val_mae: 0.5924\n",
      "Epoch 19/100\n",
      "337/337 - 0s - loss: 0.4944 - mae: 0.5712 - val_loss: 0.5548 - val_mae: 0.5892\n",
      "Epoch 20/100\n",
      "337/337 - 0s - loss: 0.4696 - mae: 0.5512 - val_loss: 0.5218 - val_mae: 0.5730\n",
      "Epoch 21/100\n",
      "337/337 - 0s - loss: 0.4887 - mae: 0.5698 - val_loss: 0.5209 - val_mae: 0.5778\n",
      "Epoch 22/100\n",
      "337/337 - 0s - loss: 0.4645 - mae: 0.5346 - val_loss: 0.5967 - val_mae: 0.6095\n",
      "Epoch 23/100\n",
      "337/337 - 0s - loss: 0.4759 - mae: 0.5508 - val_loss: 0.5227 - val_mae: 0.5761\n",
      "Epoch 24/100\n",
      "337/337 - 0s - loss: 0.4357 - mae: 0.5370 - val_loss: 0.5257 - val_mae: 0.5723\n",
      "Epoch 25/100\n",
      "337/337 - 0s - loss: 0.4760 - mae: 0.5590 - val_loss: 0.5784 - val_mae: 0.5989\n",
      "Epoch 26/100\n",
      "337/337 - 0s - loss: 0.4487 - mae: 0.5351 - val_loss: 0.5037 - val_mae: 0.5646\n",
      "Epoch 27/100\n",
      "337/337 - 0s - loss: 0.4506 - mae: 0.5316 - val_loss: 0.5598 - val_mae: 0.5981\n",
      "Epoch 28/100\n",
      "337/337 - 0s - loss: 0.4357 - mae: 0.5388 - val_loss: 0.5355 - val_mae: 0.5776\n",
      "Epoch 29/100\n",
      "337/337 - 0s - loss: 0.4382 - mae: 0.5344 - val_loss: 0.5270 - val_mae: 0.5684\n",
      "Epoch 30/100\n",
      "337/337 - 0s - loss: 0.4232 - mae: 0.5252 - val_loss: 0.5438 - val_mae: 0.5770\n",
      "Epoch 31/100\n",
      "337/337 - 0s - loss: 0.4719 - mae: 0.5431 - val_loss: 0.5764 - val_mae: 0.6025\n",
      "Epoch 32/100\n",
      "337/337 - 0s - loss: 0.4319 - mae: 0.5134 - val_loss: 0.5630 - val_mae: 0.5995\n",
      "Epoch 33/100\n",
      "337/337 - 0s - loss: 0.4373 - mae: 0.5359 - val_loss: 0.5115 - val_mae: 0.5583\n",
      "Epoch 34/100\n",
      "337/337 - 0s - loss: 0.4601 - mae: 0.5409 - val_loss: 0.5472 - val_mae: 0.5836\n",
      "Epoch 35/100\n",
      "337/337 - 0s - loss: 0.4469 - mae: 0.5346 - val_loss: 0.5268 - val_mae: 0.5748\n",
      "Epoch 36/100\n",
      "337/337 - 0s - loss: 0.4052 - mae: 0.5080 - val_loss: 0.5401 - val_mae: 0.5786\n",
      "Epoch 37/100\n",
      "337/337 - 0s - loss: 0.4204 - mae: 0.5137 - val_loss: 0.5187 - val_mae: 0.5578\n",
      "Epoch 38/100\n",
      "337/337 - 0s - loss: 0.4332 - mae: 0.5308 - val_loss: 0.5704 - val_mae: 0.6075\n",
      "Epoch 39/100\n",
      "337/337 - 0s - loss: 0.4233 - mae: 0.5225 - val_loss: 0.5521 - val_mae: 0.5997\n",
      "Epoch 40/100\n",
      "337/337 - 0s - loss: 0.4136 - mae: 0.5109 - val_loss: 0.5179 - val_mae: 0.5593\n",
      "Epoch 41/100\n",
      "337/337 - 0s - loss: 0.4279 - mae: 0.5218 - val_loss: 0.5219 - val_mae: 0.5658\n",
      "Epoch 42/100\n",
      "337/337 - 0s - loss: 0.3966 - mae: 0.4939 - val_loss: 0.5314 - val_mae: 0.5736\n",
      "Epoch 43/100\n",
      "337/337 - 0s - loss: 0.4080 - mae: 0.5129 - val_loss: 0.5718 - val_mae: 0.5986\n",
      "Epoch 44/100\n",
      "337/337 - 0s - loss: 0.4113 - mae: 0.5160 - val_loss: 0.5552 - val_mae: 0.5924\n",
      "Epoch 45/100\n",
      "337/337 - 0s - loss: 0.4218 - mae: 0.5242 - val_loss: 0.5575 - val_mae: 0.6008\n",
      "Epoch 46/100\n",
      "337/337 - 0s - loss: 0.4333 - mae: 0.5260 - val_loss: 0.5527 - val_mae: 0.5907\n",
      "Epoch 47/100\n",
      "337/337 - 0s - loss: 0.4248 - mae: 0.5226 - val_loss: 0.5051 - val_mae: 0.5447\n",
      "Epoch 48/100\n",
      "337/337 - 0s - loss: 0.4488 - mae: 0.5338 - val_loss: 0.5804 - val_mae: 0.6110\n",
      "Epoch 49/100\n",
      "337/337 - 0s - loss: 0.4521 - mae: 0.5381 - val_loss: 0.5365 - val_mae: 0.5885\n",
      "Epoch 50/100\n",
      "337/337 - 0s - loss: 0.4434 - mae: 0.5440 - val_loss: 0.5151 - val_mae: 0.5692\n",
      "Epoch 51/100\n",
      "337/337 - 0s - loss: 0.4383 - mae: 0.5293 - val_loss: 0.5653 - val_mae: 0.6012\n",
      "Epoch 52/100\n",
      "337/337 - 0s - loss: 0.4279 - mae: 0.5284 - val_loss: 0.5087 - val_mae: 0.5567\n",
      "Epoch 53/100\n",
      "337/337 - 0s - loss: 0.4141 - mae: 0.5162 - val_loss: 0.5672 - val_mae: 0.5961\n",
      "Epoch 54/100\n",
      "337/337 - 0s - loss: 0.4215 - mae: 0.5105 - val_loss: 0.5369 - val_mae: 0.5818\n",
      "Epoch 55/100\n",
      "337/337 - 0s - loss: 0.4103 - mae: 0.5219 - val_loss: 0.5344 - val_mae: 0.5740\n",
      "Epoch 56/100\n",
      "337/337 - 0s - loss: 0.4020 - mae: 0.5123 - val_loss: 0.5659 - val_mae: 0.5951\n",
      "Epoch 57/100\n",
      "337/337 - 0s - loss: 0.3936 - mae: 0.5010 - val_loss: 0.5312 - val_mae: 0.5468\n",
      "Epoch 58/100\n",
      "337/337 - 0s - loss: 0.4075 - mae: 0.5097 - val_loss: 0.5496 - val_mae: 0.5779\n",
      "Epoch 59/100\n",
      "337/337 - 0s - loss: 0.3967 - mae: 0.4954 - val_loss: 0.5222 - val_mae: 0.5746\n",
      "Epoch 60/100\n",
      "337/337 - 0s - loss: 0.4117 - mae: 0.5147 - val_loss: 0.5005 - val_mae: 0.5525\n",
      "Epoch 61/100\n",
      "337/337 - 0s - loss: 0.3902 - mae: 0.4943 - val_loss: 0.5377 - val_mae: 0.5831\n",
      "Epoch 62/100\n",
      "337/337 - 0s - loss: 0.3765 - mae: 0.4818 - val_loss: 0.5190 - val_mae: 0.5591\n",
      "Epoch 63/100\n",
      "337/337 - 0s - loss: 0.4053 - mae: 0.5108 - val_loss: 0.5692 - val_mae: 0.5987\n",
      "Epoch 64/100\n",
      "337/337 - 0s - loss: 0.3615 - mae: 0.4715 - val_loss: 0.5545 - val_mae: 0.5655\n",
      "Epoch 65/100\n",
      "337/337 - 0s - loss: 0.3807 - mae: 0.4811 - val_loss: 0.5733 - val_mae: 0.5779\n",
      "Epoch 66/100\n",
      "337/337 - 0s - loss: 0.3782 - mae: 0.4814 - val_loss: 0.5458 - val_mae: 0.5722\n",
      "Epoch 67/100\n",
      "337/337 - 0s - loss: 0.3888 - mae: 0.4946 - val_loss: 0.5184 - val_mae: 0.5690\n",
      "Epoch 68/100\n",
      "337/337 - 0s - loss: 0.3892 - mae: 0.5052 - val_loss: 0.5229 - val_mae: 0.5747\n",
      "Epoch 69/100\n",
      "337/337 - 0s - loss: 0.3814 - mae: 0.4816 - val_loss: 0.5111 - val_mae: 0.5438\n",
      "Epoch 70/100\n",
      "337/337 - 0s - loss: 0.3828 - mae: 0.4947 - val_loss: 0.5141 - val_mae: 0.5486\n",
      "Epoch 71/100\n",
      "337/337 - 0s - loss: 0.3841 - mae: 0.4963 - val_loss: 0.5417 - val_mae: 0.5807\n",
      "Epoch 72/100\n",
      "337/337 - 0s - loss: 0.3825 - mae: 0.4949 - val_loss: 0.5285 - val_mae: 0.5742\n",
      "Epoch 73/100\n",
      "337/337 - 0s - loss: 0.3691 - mae: 0.4838 - val_loss: 0.5151 - val_mae: 0.5533\n",
      "Epoch 74/100\n",
      "337/337 - 0s - loss: 0.3896 - mae: 0.4907 - val_loss: 0.5302 - val_mae: 0.5695\n",
      "Epoch 75/100\n",
      "337/337 - 0s - loss: 0.3943 - mae: 0.4980 - val_loss: 0.4987 - val_mae: 0.5484\n",
      "Epoch 76/100\n",
      "337/337 - 0s - loss: 0.4021 - mae: 0.5042 - val_loss: 0.5246 - val_mae: 0.5750\n",
      "Epoch 77/100\n",
      "337/337 - 0s - loss: 0.3884 - mae: 0.5005 - val_loss: 0.5352 - val_mae: 0.5742\n",
      "Epoch 78/100\n",
      "337/337 - 0s - loss: 0.3714 - mae: 0.4767 - val_loss: 0.5307 - val_mae: 0.5685\n",
      "Epoch 79/100\n",
      "337/337 - 0s - loss: 0.3753 - mae: 0.4884 - val_loss: 0.5068 - val_mae: 0.5438\n",
      "Epoch 80/100\n",
      "337/337 - 0s - loss: 0.3771 - mae: 0.4844 - val_loss: 0.5367 - val_mae: 0.5674\n",
      "Epoch 81/100\n",
      "337/337 - 0s - loss: 0.3725 - mae: 0.4892 - val_loss: 0.4970 - val_mae: 0.5358\n",
      "Epoch 82/100\n",
      "337/337 - 0s - loss: 0.3436 - mae: 0.4667 - val_loss: 0.4943 - val_mae: 0.5287\n",
      "Epoch 83/100\n",
      "337/337 - 0s - loss: 0.3358 - mae: 0.4513 - val_loss: 0.5040 - val_mae: 0.5334\n",
      "Epoch 84/100\n",
      "337/337 - 0s - loss: 0.3634 - mae: 0.4757 - val_loss: 0.5088 - val_mae: 0.5386\n",
      "Epoch 85/100\n",
      "337/337 - 0s - loss: 0.3669 - mae: 0.4775 - val_loss: 0.5087 - val_mae: 0.5393\n",
      "Epoch 86/100\n",
      "337/337 - 0s - loss: 0.3551 - mae: 0.4668 - val_loss: 0.4987 - val_mae: 0.5478\n",
      "Epoch 87/100\n",
      "337/337 - 0s - loss: 0.3710 - mae: 0.4826 - val_loss: 0.4917 - val_mae: 0.5397\n",
      "Epoch 88/100\n",
      "337/337 - 0s - loss: 0.3486 - mae: 0.4593 - val_loss: 0.5032 - val_mae: 0.5518\n",
      "Epoch 89/100\n",
      "337/337 - 0s - loss: 0.3566 - mae: 0.4701 - val_loss: 0.4947 - val_mae: 0.5433\n",
      "Epoch 90/100\n",
      "337/337 - 0s - loss: 0.3334 - mae: 0.4614 - val_loss: 0.5014 - val_mae: 0.5325\n",
      "Epoch 91/100\n",
      "337/337 - 0s - loss: 0.3443 - mae: 0.4626 - val_loss: 0.4934 - val_mae: 0.5322\n",
      "Epoch 92/100\n",
      "337/337 - 0s - loss: 0.3651 - mae: 0.4754 - val_loss: 0.5165 - val_mae: 0.5493\n",
      "Epoch 93/100\n",
      "337/337 - 0s - loss: 0.3419 - mae: 0.4476 - val_loss: 0.5046 - val_mae: 0.5316\n",
      "Epoch 94/100\n",
      "337/337 - 0s - loss: 0.3611 - mae: 0.4802 - val_loss: 0.5034 - val_mae: 0.5509\n",
      "Epoch 95/100\n",
      "337/337 - 0s - loss: 0.3629 - mae: 0.4771 - val_loss: 0.5063 - val_mae: 0.5452\n",
      "Epoch 96/100\n",
      "337/337 - 0s - loss: 0.3589 - mae: 0.4743 - val_loss: 0.4949 - val_mae: 0.5207\n",
      "Epoch 97/100\n",
      "337/337 - 0s - loss: 0.3783 - mae: 0.4920 - val_loss: 0.5266 - val_mae: 0.5580\n",
      "Epoch 98/100\n",
      "337/337 - 0s - loss: 0.3750 - mae: 0.4798 - val_loss: 0.5705 - val_mae: 0.6040\n",
      "Epoch 99/100\n",
      "337/337 - 0s - loss: 0.3745 - mae: 0.4897 - val_loss: 0.5221 - val_mae: 0.5551\n",
      "Epoch 100/100\n",
      "337/337 - 0s - loss: 0.3613 - mae: 0.4739 - val_loss: 0.5436 - val_mae: 0.5584\n"
     ]
    }
   ],
   "source": [
    "# Train the model, with some of the data reserved for validation\n",
    "\n",
    "history = model.fit(train_data, train_targets, epochs=100, validation_split=0.15, batch_size=64, verbose=2)"
   ]
  },
  {
   "cell_type": "code",
   "execution_count": 18,
   "metadata": {},
   "outputs": [
    {
     "name": "stdout",
     "output_type": "stream",
     "text": [
      "45/1 - 0s - loss: 0.6578 - mae: 0.6822\n"
     ]
    },
    {
     "data": {
      "text/plain": [
       "[0.8520020703474681, 0.6821796]"
      ]
     },
     "execution_count": 18,
     "metadata": {},
     "output_type": "execute_result"
    }
   ],
   "source": [
    "# Evaluate the model on the test set\n",
    "\n",
    "model.evaluate(test_data, test_targets, verbose=2)"
   ]
  },
  {
   "cell_type": "markdown",
   "metadata": {},
   "source": [
    "#### Plot the learning curves"
   ]
  },
  {
   "cell_type": "code",
   "execution_count": 19,
   "metadata": {},
   "outputs": [
    {
     "data": {
      "image/png": "[encoded data removed]",
      "text/plain": [
       "<Figure size 432x288 with 1 Axes>"
      ]
     },
     "metadata": {
      "needs_background": "light"
     },
     "output_type": "display_data"
    }
   ],
   "source": [
    "# Plot the training and validation loss\n",
    "\n",
    "import matplotlib.pyplot as plt\n",
    "\n",
    "plt.plot(history.history['loss'])\n",
    "plt.plot(history.history['val_loss'])\n",
    "plt.title('Loss vs. epochs')\n",
    "plt.ylabel('Loss')\n",
    "plt.xlabel('Epoch')\n",
    "plt.legend(['Training', 'Validation'], loc='upper right')\n",
    "plt.show()"
   ]
  },
  {
   "cell_type": "markdown",
   "metadata": {},
   "source": [
    "***\n",
    "<a id=\"coding_tutorial_3\"></a>\n",
    "## Introduction to callbacks"
   ]
  },
  {
   "cell_type": "markdown",
   "metadata": {},
   "source": [
    "#### Example training callback"
   ]
  },
  {
   "cell_type": "code",
   "execution_count": 21,
   "metadata": {},
   "outputs": [],
   "source": [
    "# Write a custom callback\n",
    "\n",
    "from tensorflow.keras.callbacks import Callback\n",
    "\n",
    "class TrainingCallback(Callback):\n",
    "    \n",
    "    def on_train_begin(self, logs=None):\n",
    "        print(\"Starting training...\")\n",
    "        \n",
    "    def on_epoch_begin(self, epoch, logs=None):\n",
    "        print(f\"Starting epoch {epoch}\")\n",
    "    \n",
    "    def on_train_batch_begin(self, batch, logs=None):\n",
    "        print(f\"Training: Starting batch {batch}\")\n",
    "        \n",
    "    def on_train_batch_end(self, batch, logs=None):\n",
    "        print(f\"Training: Finished batch {batch}\")\n",
    "        \n",
    "    def on_train_end(self, logs=None):\n",
    "        print(\"Finished training!\")\n",
    "        \n",
    "        "
   ]
  },
  {
   "cell_type": "code",
   "execution_count": 27,
   "metadata": {},
   "outputs": [],
   "source": [
    "\n",
    "from tensorflow.keras.callbacks import Callback\n",
    "\n",
    "class TestingCallback(Callback):\n",
    "    \n",
    "    def on_test_begin(self, logs=None):\n",
    "        print(\"Starting testing...\")\n",
    "    \n",
    "    def on_test_batch_begin(self, batch, logs=None):\n",
    "        print(f\"Testing: Starting batch {batch}\")\n",
    "        \n",
    "    def on_test_batch_end(self, batch, logs=None):\n",
    "        print(f\"Testing: Finished batch {batch}\")\n",
    "        \n",
    "    def on_test_end(self, logs=None):\n",
    "        print(\"Finished testing!\")"
   ]
  },
  {
   "cell_type": "code",
   "execution_count": 29,
   "metadata": {},
   "outputs": [],
   "source": [
    "from tensorflow.keras.callbacks import Callback\n",
    "\n",
    "class PredictionCallback(Callback):\n",
    "    \n",
    "    def on_predict_begin(self, logs=None):\n",
    "        print(\"Starting testing...\")\n",
    "    \n",
    "    def on_predict_batch_begin(self, batch, logs=None):\n",
    "        print(f\"Prediction: Starting batch {batch}\")\n",
    "        \n",
    "    def on_predict_batch_end(self, batch, logs=None):\n",
    "        print(f\"Prediction: Finished batch {batch}\")\n",
    "        \n",
    "    def on_predict_end(self, logs=None):\n",
    "        print(\"Finished prediction!\")"
   ]
  },
  {
   "cell_type": "code",
   "execution_count": 30,
   "metadata": {},
   "outputs": [],
   "source": [
    "# Re-build the model\n",
    "\n",
    "model = get_regularised_model(1e-5, 0.3)"
   ]
  },
  {
   "cell_type": "code",
   "execution_count": 31,
   "metadata": {},
   "outputs": [],
   "source": [
    "# Compile the model\n",
    "\n",
    "model.compile(optimizer='adam', loss='mse')"
   ]
  },
  {
   "cell_type": "markdown",
   "metadata": {},
   "source": [
    "#### Train the model with the callback"
   ]
  },
  {
   "cell_type": "code",
   "execution_count": 32,
   "metadata": {},
   "outputs": [
    {
     "name": "stdout",
     "output_type": "stream",
     "text": [
      "Starting training...\n",
      "Starting epoch 0\n",
      "Training: Starting batch 0\n",
      "Training: Finished batch 0\n",
      "Training: Starting batch 1\n",
      "Training: Finished batch 1\n",
      "Training: Starting batch 2\n",
      "Training: Finished batch 2\n",
      "Training: Starting batch 3\n",
      "Training: Finished batch 3\n",
      "Starting epoch 1\n",
      "Training: Starting batch 0\n",
      "Training: Finished batch 0\n",
      "Training: Starting batch 1\n",
      "Training: Finished batch 1\n",
      "Training: Starting batch 2\n",
      "Training: Finished batch 2\n",
      "Training: Starting batch 3\n",
      "Training: Finished batch 3\n",
      "Starting epoch 2\n",
      "Training: Starting batch 0\n",
      "Training: Finished batch 0\n",
      "Training: Starting batch 1\n",
      "Training: Finished batch 1\n",
      "Training: Starting batch 2\n",
      "Training: Finished batch 2\n",
      "Training: Starting batch 3\n",
      "Training: Finished batch 3\n",
      "Finished training!\n"
     ]
    },
    {
     "data": {
      "text/plain": [
       "<tensorflow.python.keras.callbacks.History at 0x7f0004788f28>"
      ]
     },
     "execution_count": 32,
     "metadata": {},
     "output_type": "execute_result"
    }
   ],
   "source": [
    "# Train the model, with some of the data reserved for validation\n",
    "\n",
    "model.fit(train_data, train_targets, epochs=3, batch_size=128, verbose=False, callbacks = [TrainingCallback()])"
   ]
  },
  {
   "cell_type": "code",
   "execution_count": 33,
   "metadata": {},
   "outputs": [
    {
     "name": "stdout",
     "output_type": "stream",
     "text": [
      "Starting testing...\n",
      "Testing: Starting batch 0\n",
      "Testing: Finished batch 0\n",
      "Testing: Starting batch 1\n",
      "Testing: Finished batch 1\n",
      "Finished testing!\n"
     ]
    },
    {
     "data": {
      "text/plain": [
       "1.08628984424803"
      ]
     },
     "execution_count": 33,
     "metadata": {},
     "output_type": "execute_result"
    }
   ],
   "source": [
    "# Evaluate the model\n",
    "model.evaluate(test_data, test_targets, verbose=False, callbacks=[TestingCallback()])\n"
   ]
  },
  {
   "cell_type": "code",
   "execution_count": 34,
   "metadata": {},
   "outputs": [
    {
     "name": "stdout",
     "output_type": "stream",
     "text": [
      "Starting testing...\n",
      "Prediction: Starting batch 0\n",
      "Prediction: Finished batch 0\n",
      "Prediction: Starting batch 1\n",
      "Prediction: Finished batch 1\n",
      "Finished prediction!\n"
     ]
    },
    {
     "data": {
      "text/plain": [
       "array([[ 0.01835411],\n",
       "       [-0.04161798],\n",
       "       [-0.15961948],\n",
       "       [-0.15675357],\n",
       "       [-0.02132522],\n",
       "       [-0.19752297],\n",
       "       [-0.12949365],\n",
       "       [ 0.0110468 ],\n",
       "       [ 0.04714628],\n",
       "       [-0.07718766],\n",
       "       [-0.1516792 ],\n",
       "       [-0.16425894],\n",
       "       [-0.12873618],\n",
       "       [-0.08403505],\n",
       "       [ 0.02938743],\n",
       "       [-0.12746237],\n",
       "       [ 0.00179012],\n",
       "       [-0.14668751],\n",
       "       [-0.16028059],\n",
       "       [-0.03539544],\n",
       "       [-0.11677319],\n",
       "       [ 0.01932137],\n",
       "       [-0.1344163 ],\n",
       "       [-0.12878034],\n",
       "       [-0.08646328],\n",
       "       [-0.06745189],\n",
       "       [-0.0896318 ],\n",
       "       [-0.15902291],\n",
       "       [ 0.01717676],\n",
       "       [-0.15149769],\n",
       "       [-0.09273172],\n",
       "       [ 0.03780481],\n",
       "       [-0.19379282],\n",
       "       [ 0.00071426],\n",
       "       [-0.04504307],\n",
       "       [ 0.00590223],\n",
       "       [-0.13547981],\n",
       "       [ 0.03712722],\n",
       "       [-0.09023941],\n",
       "       [ 0.05327142],\n",
       "       [-0.14132144],\n",
       "       [-0.06365077],\n",
       "       [-0.08629734],\n",
       "       [-0.11085609],\n",
       "       [-0.1411412 ]], dtype=float32)"
      ]
     },
     "execution_count": 34,
     "metadata": {},
     "output_type": "execute_result"
    }
   ],
   "source": [
    "# Make predictions with the model\n",
    "model.predict(test_data, verbose=False, callbacks=[PredictionCallback()])\n"
   ]
  },
  {
   "cell_type": "markdown",
   "metadata": {},
   "source": [
    "***\n",
    "<a id=\"coding_tutorial_4\"></a>\n",
    "## Early stopping / patience"
   ]
  },
  {
   "cell_type": "markdown",
   "metadata": {},
   "source": [
    "#### Re-train the models with early stopping"
   ]
  },
  {
   "cell_type": "code",
   "execution_count": 49,
   "metadata": {},
   "outputs": [],
   "source": [
    "# Re-train the unregularised model\n",
    "unregularized_model = get_model()\n",
    "\n",
    "unregularized_model.compile(optimizer='adam', loss='mse')\n",
    "\n",
    "unreg_history = unregularized_model.fit(train_data, train_targets, epochs=100, \n",
    "                                        validation_split=0.15, batch_size=64, verbose=False,\n",
    "                                       callbacks = [tf.keras.callbacks.EarlyStopping(patience=2)])"
   ]
  },
  {
   "cell_type": "code",
   "execution_count": 50,
   "metadata": {},
   "outputs": [
    {
     "name": "stdout",
     "output_type": "stream",
     "text": [
      "45/1 - 0s - loss: 0.4622\n"
     ]
    },
    {
     "data": {
      "text/plain": [
       "0.6809043364392386"
      ]
     },
     "execution_count": 50,
     "metadata": {},
     "output_type": "execute_result"
    }
   ],
   "source": [
    "# Evaluate the model on the test set\n",
    "unregularized_model.evaluate(test_data, test_targets, verbose=2)\n"
   ]
  },
  {
   "cell_type": "code",
   "execution_count": 51,
   "metadata": {},
   "outputs": [],
   "source": [
    "# Re-train the regularised model\n",
    "\n",
    "regularized_model = get_regularised_model(1e-5, 0.2)\n",
    "regularized_model.compile(optimizer='adam', loss='mse')\n",
    "reg_history = regularized_model.fit(train_data, train_targets, epochs=100, \n",
    "                                        validation_split=0.15, batch_size=64, verbose=False,\n",
    "                                       callbacks = [tf.keras.callbacks.EarlyStopping(patience=2)])"
   ]
  },
  {
   "cell_type": "code",
   "execution_count": 52,
   "metadata": {},
   "outputs": [
    {
     "name": "stdout",
     "output_type": "stream",
     "text": [
      "45/1 - 0s - loss: 0.5009\n"
     ]
    },
    {
     "data": {
      "text/plain": [
       "0.705164948436949"
      ]
     },
     "execution_count": 52,
     "metadata": {},
     "output_type": "execute_result"
    }
   ],
   "source": [
    "# Evaluate the model on the test set\n",
    "regularized_model.evaluate(test_data, test_targets, verbose=2)\n"
   ]
  },
  {
   "cell_type": "markdown",
   "metadata": {},
   "source": [
    "#### Plot the learning curves"
   ]
  },
  {
   "cell_type": "code",
   "execution_count": 53,
   "metadata": {},
   "outputs": [
    {
     "data": {
      "image/png": "[encoded data removed]",
      "text/plain": [
       "<Figure size 864x360 with 2 Axes>"
      ]
     },
     "metadata": {
      "needs_background": "light"
     },
     "output_type": "display_data"
    }
   ],
   "source": [
    "# Plot the training and validation loss\n",
    "\n",
    "import matplotlib.pyplot as plt\n",
    "\n",
    "fig = plt.figure(figsize=(12, 5))\n",
    "\n",
    "fig.add_subplot(121)\n",
    "\n",
    "plt.plot(unreg_history.history['loss'])\n",
    "plt.plot(unreg_history.history['val_loss'])\n",
    "plt.title('Unregularised model: loss vs. epochs')\n",
    "plt.ylabel('Loss')\n",
    "plt.xlabel('Epoch')\n",
    "plt.legend(['Training', 'Validation'], loc='upper right')\n",
    "\n",
    "fig.add_subplot(122)\n",
    "\n",
    "plt.plot(reg_history.history['loss'])\n",
    "plt.plot(reg_history.history['val_loss'])\n",
    "plt.title('Regularised model: loss vs. epochs')\n",
    "plt.ylabel('Loss')\n",
    "plt.xlabel('Epoch')\n",
    "plt.legend(['Training', 'Validation'], loc='upper right')\n",
    "\n",
    "plt.show()"
   ]
  },
  {
   "cell_type": "code",
   "execution_count": null,
   "metadata": {},
   "outputs": [],
   "source": []
  }
 ],
 "metadata": {
  "kernelspec": {
   "display_name": "Python 3",
   "language": "python",
   "name": "python3"
  },
  "language_info": {
   "codemirror_mode": {
    "name": "ipython",
    "version": 3
   },
   "file_extension": ".py",
   "mimetype": "text/x-python",
   "name": "python",
   "nbconvert_exporter": "python",
   "pygments_lexer": "ipython3",
   "version": "3.7.1"
  }
 },
 "nbformat": 4,
 "nbformat_minor": 2
}
