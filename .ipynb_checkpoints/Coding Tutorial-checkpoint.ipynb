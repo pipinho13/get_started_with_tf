{
 "cells": [
  {
   "cell_type": "code",
   "execution_count": 1,
   "metadata": {},
   "outputs": [
    {
     "name": "stdout",
     "output_type": "stream",
     "text": [
      "2.0.0\n"
     ]
    }
   ],
   "source": [
    "import tensorflow as tf\n",
    "print(tf.__version__)"
   ]
  },
  {
   "cell_type": "markdown",
   "metadata": {},
   "source": [
    "# The Sequential model API"
   ]
  },
  {
   "cell_type": "markdown",
   "metadata": {},
   "source": [
    " ## Coding tutorials\n",
    " #### [1. Building a Sequential model](#coding_tutorial_1)\n",
    " #### [2. Convolutional and pooling layers](#coding_tutorial_2)\n",
    " #### [3. The compile method](#coding_tutorial_3)\n",
    " #### [4. The fit method](#coding_tutorial_4)\n",
    " #### [5. The evaluate and predict methods](#coding_tutorial_5)"
   ]
  },
  {
   "cell_type": "markdown",
   "metadata": {},
   "source": [
    "***\n",
    "<a id=\"coding_tutorial_1\"></a>\n",
    "## Building a Sequential model"
   ]
  },
  {
   "cell_type": "code",
   "execution_count": 2,
   "metadata": {},
   "outputs": [],
   "source": [
    "from tensorflow.keras.models import Sequential\n",
    "from tensorflow.keras.layers import Dense, Flatten, Softmax"
   ]
  },
  {
   "cell_type": "markdown",
   "metadata": {},
   "source": [
    "#### Build a feedforward neural network model"
   ]
  },
  {
   "cell_type": "code",
   "execution_count": 8,
   "metadata": {},
   "outputs": [],
   "source": [
    "# Build the Sequential feedforward neural network model\n",
    "\n",
    "model = Sequential([\n",
    "    Flatten(input_shape=(28,28)),\n",
    "    Dense(16, activation='relu'), \n",
    "    Dense(16, activation='relu'), \n",
    "    Dense(10, activation='softmax'), \n",
    "])"
   ]
  },
  {
   "cell_type": "code",
   "execution_count": 9,
   "metadata": {},
   "outputs": [
    {
     "data": {
      "text/plain": [
       "[<tf.Variable 'dense_3/kernel:0' shape=(784, 16) dtype=float32, numpy=\n",
       " array([[ 0.0717539 ,  0.03975029, -0.0456721 , ...,  0.01057744,\n",
       "         -0.06145339, -0.01964337],\n",
       "        [-0.06360607, -0.03921789, -0.03893198, ...,  0.02239729,\n",
       "          0.05391476,  0.06189434],\n",
       "        [ 0.04185583, -0.04467649,  0.02472329, ..., -0.0795499 ,\n",
       "         -0.06336144,  0.05317125],\n",
       "        ...,\n",
       "        [ 0.07952358,  0.06657818, -0.06670594, ...,  0.04989217,\n",
       "         -0.00314823, -0.05365423],\n",
       "        [-0.00946862, -0.04629865,  0.00699617, ..., -0.04445489,\n",
       "         -0.03390669,  0.01857391],\n",
       "        [-0.02309011,  0.06376009, -0.0311475 , ...,  0.00725094,\n",
       "          0.07508536,  0.00680937]], dtype=float32)>,\n",
       " <tf.Variable 'dense_3/bias:0' shape=(16,) dtype=float32, numpy=\n",
       " array([0., 0., 0., 0., 0., 0., 0., 0., 0., 0., 0., 0., 0., 0., 0., 0.],\n",
       "       dtype=float32)>,\n",
       " <tf.Variable 'dense_4/kernel:0' shape=(16, 16) dtype=float32, numpy=\n",
       " array([[-0.1836326 , -0.03558159,  0.06041503,  0.00986606,  0.1810343 ,\n",
       "          0.2449083 ,  0.08729413,  0.37739667, -0.11109284,  0.41218284,\n",
       "          0.24058482,  0.37496468,  0.1710271 ,  0.15353402,  0.373158  ,\n",
       "          0.08144179],\n",
       "        [ 0.00939128,  0.2896072 ,  0.29884002, -0.04119393,  0.02352872,\n",
       "          0.14674327,  0.26972237,  0.00067073,  0.02860659, -0.23315465,\n",
       "          0.08880278,  0.42749956, -0.35937047, -0.22114578, -0.32369813,\n",
       "         -0.01291522],\n",
       "        [ 0.36778983, -0.23811267,  0.00619408, -0.0646736 , -0.16822574,\n",
       "         -0.18428445, -0.41066027,  0.37063387,  0.28538993, -0.0652408 ,\n",
       "         -0.10204783, -0.0837478 ,  0.04565722,  0.38525674, -0.37469587,\n",
       "         -0.01927179],\n",
       "        [ 0.02419212,  0.34649405,  0.125779  ,  0.05360669, -0.32427233,\n",
       "          0.3555176 , -0.39363092, -0.4273792 ,  0.37752727, -0.18938379,\n",
       "          0.37854668,  0.33709845,  0.09468129, -0.16195017, -0.26695836,\n",
       "          0.13669768],\n",
       "        [ 0.31499884,  0.40317944, -0.40719426, -0.302621  ,  0.40128055,\n",
       "         -0.2699747 ,  0.16548392, -0.29974964, -0.06311741, -0.40690807,\n",
       "         -0.19709703,  0.2438716 ,  0.07960632, -0.22935073,  0.06830737,\n",
       "         -0.23556599],\n",
       "        [ 0.24848667, -0.36300135, -0.04613245, -0.28088987, -0.01877543,\n",
       "          0.05984515, -0.24964078,  0.366914  ,  0.37215313, -0.15344986,\n",
       "          0.26384678, -0.4259162 , -0.29098275,  0.31737116,  0.30954704,\n",
       "          0.24965927],\n",
       "        [ 0.06687289, -0.42632204, -0.32155305, -0.4253927 , -0.05031016,\n",
       "         -0.32840785,  0.38410893,  0.42585227, -0.34866145,  0.30148044,\n",
       "          0.27640346,  0.26109383, -0.38814473, -0.13335225, -0.15681905,\n",
       "          0.42454645],\n",
       "        [-0.3594104 ,  0.4077132 ,  0.20352504, -0.34315866, -0.09438413,\n",
       "          0.17963448, -0.11451066, -0.25920126,  0.34239253,  0.33537427,\n",
       "         -0.27431637, -0.1924156 ,  0.3476847 , -0.42484933,  0.00293434,\n",
       "          0.21479526],\n",
       "        [-0.04152077, -0.40855762,  0.01189613, -0.09579736,  0.42337945,\n",
       "          0.0494625 , -0.0894348 ,  0.20447245, -0.18758859,  0.2310107 ,\n",
       "         -0.06944641,  0.10219947, -0.39662367, -0.05966863, -0.3427041 ,\n",
       "         -0.15017885],\n",
       "        [ 0.16191325, -0.3426813 ,  0.40122274, -0.21595804, -0.17451727,\n",
       "          0.18062815, -0.14061877,  0.3322799 , -0.2347089 , -0.3935193 ,\n",
       "          0.27907154, -0.37376642, -0.2434185 , -0.25731945,  0.27595064,\n",
       "          0.42263815],\n",
       "        [-0.04328895,  0.21082547,  0.22099957,  0.35299715, -0.04708162,\n",
       "          0.35885903, -0.27188274,  0.13986853, -0.42919195,  0.04412299,\n",
       "         -0.3187391 , -0.04604861, -0.17427272, -0.3444805 , -0.34535038,\n",
       "         -0.07085955],\n",
       "        [-0.3107693 ,  0.18309233, -0.24970333,  0.1194863 , -0.34786084,\n",
       "          0.13005438, -0.21375051,  0.10814753,  0.08349726, -0.19290856,\n",
       "         -0.37200755,  0.3984861 , -0.2779236 ,  0.187911  , -0.04658866,\n",
       "          0.256062  ],\n",
       "        [ 0.36130247,  0.01061714,  0.02505025,  0.19194081,  0.01837054,\n",
       "          0.28970888,  0.14036122, -0.32271355,  0.10184804,  0.26757386,\n",
       "         -0.40742344, -0.04556379, -0.13503689,  0.25058058, -0.14812493,\n",
       "          0.23512188],\n",
       "        [-0.36731404,  0.36308035, -0.4287628 ,  0.12908384, -0.2665574 ,\n",
       "          0.3355163 ,  0.29472408,  0.10491648,  0.02229172, -0.30203098,\n",
       "         -0.08789292,  0.05522701,  0.41556326, -0.40434033, -0.2376133 ,\n",
       "         -0.20193923],\n",
       "        [-0.40153533,  0.3635095 , -0.03429833, -0.25885665, -0.3481849 ,\n",
       "         -0.046211  , -0.05927569,  0.23435965,  0.21367142, -0.32192108,\n",
       "         -0.42240423, -0.17279649,  0.20889214, -0.07628089,  0.02180102,\n",
       "         -0.26002654],\n",
       "        [-0.12836936, -0.18988967,  0.12449679,  0.12069842,  0.25710282,\n",
       "         -0.23049234, -0.16703025, -0.37377477,  0.08790335, -0.30728644,\n",
       "          0.41156814,  0.13469216,  0.38238868,  0.38808784,  0.1916258 ,\n",
       "          0.33761093]], dtype=float32)>,\n",
       " <tf.Variable 'dense_4/bias:0' shape=(16,) dtype=float32, numpy=\n",
       " array([0., 0., 0., 0., 0., 0., 0., 0., 0., 0., 0., 0., 0., 0., 0., 0.],\n",
       "       dtype=float32)>,\n",
       " <tf.Variable 'dense_5/kernel:0' shape=(16, 10) dtype=float32, numpy=\n",
       " array([[ 0.33038574, -0.4648126 ,  0.23369241, -0.24125658,  0.34925038,\n",
       "         -0.29180634,  0.39973348, -0.36182344,  0.44003063,  0.01390344],\n",
       "        [ 0.11928284, -0.33915573, -0.4119628 , -0.08925021, -0.15187603,\n",
       "          0.0513525 ,  0.0953896 , -0.30120718, -0.15238217, -0.3027503 ],\n",
       "        [ 0.28359628, -0.3352664 ,  0.31221431,  0.2560258 , -0.42586148,\n",
       "         -0.2721851 , -0.33977658, -0.44094622,  0.05731326, -0.09571889],\n",
       "        [-0.48018393,  0.22564912,  0.20466053,  0.3791662 ,  0.13918483,\n",
       "          0.12599361, -0.07781595,  0.3407209 , -0.47256133, -0.3211844 ],\n",
       "        [ 0.47677428, -0.29189464,  0.09440863, -0.43460774, -0.38809788,\n",
       "          0.35094   , -0.22105625, -0.39604622, -0.19204503, -0.09681177],\n",
       "        [-0.3674132 ,  0.30226487, -0.02367365, -0.16678557, -0.0076187 ,\n",
       "         -0.35977924, -0.2815739 , -0.25035757,  0.15552896,  0.10790604],\n",
       "        [ 0.31309885, -0.08311525, -0.16313964, -0.3984331 ,  0.41570216,\n",
       "          0.0522247 ,  0.35923153,  0.09829152,  0.22170371, -0.10558105],\n",
       "        [-0.33381712, -0.34023643, -0.33245876, -0.12027135,  0.25495744,\n",
       "         -0.24673629, -0.08360064,  0.13675386, -0.3042921 , -0.43869564],\n",
       "        [-0.45622715, -0.45197317,  0.29454756, -0.21311662, -0.31242543,\n",
       "         -0.01445308, -0.22402391,  0.2870695 , -0.09155828, -0.3582468 ],\n",
       "        [ 0.34574717, -0.286331  ,  0.46995777,  0.12089324,  0.15923834,\n",
       "         -0.0035986 , -0.32901478,  0.4165107 , -0.46174258, -0.36686045],\n",
       "        [-0.19498083, -0.12783393, -0.12355432,  0.14941895,  0.20595652,\n",
       "          0.20763785,  0.22540355, -0.32993734, -0.2971534 , -0.2746576 ],\n",
       "        [ 0.46853125,  0.3946178 ,  0.27529943, -0.06919977,  0.37526655,\n",
       "         -0.01510042, -0.22835976, -0.05327174,  0.32059228, -0.25940508],\n",
       "        [-0.09535971, -0.424529  ,  0.32685262,  0.47528648,  0.02913457,\n",
       "         -0.319319  ,  0.30402845,  0.4670995 ,  0.1392731 , -0.39516157],\n",
       "        [-0.4365044 , -0.12628901,  0.290371  ,  0.06428337, -0.18790731,\n",
       "          0.06364644,  0.26153195, -0.08857   ,  0.17299342, -0.05287179],\n",
       "        [-0.02351996,  0.30037063, -0.18732995, -0.35731542,  0.3177899 ,\n",
       "          0.00347412,  0.41472065, -0.02261308,  0.01375112,  0.46115136],\n",
       "        [-0.44945344,  0.41340697, -0.38300556,  0.42452157,  0.31052518,\n",
       "          0.16219795,  0.19119167,  0.21674019,  0.39981973,  0.2452113 ]],\n",
       "       dtype=float32)>,\n",
       " <tf.Variable 'dense_5/bias:0' shape=(10,) dtype=float32, numpy=array([0., 0., 0., 0., 0., 0., 0., 0., 0., 0.], dtype=float32)>]"
      ]
     },
     "execution_count": 9,
     "metadata": {},
     "output_type": "execute_result"
    }
   ],
   "source": [
    "# Print the model summary\n",
    "\n",
    "model.weights"
   ]
  },
  {
   "cell_type": "code",
   "execution_count": 11,
   "metadata": {},
   "outputs": [
    {
     "name": "stdout",
     "output_type": "stream",
     "text": [
      "Model: \"sequential_1\"\n",
      "_________________________________________________________________\n",
      "Layer (type)                 Output Shape              Param #   \n",
      "=================================================================\n",
      "flatten (Flatten)            (None, 784)               0         \n",
      "_________________________________________________________________\n",
      "dense_3 (Dense)              (None, 16)                12560     \n",
      "_________________________________________________________________\n",
      "dense_4 (Dense)              (None, 16)                272       \n",
      "_________________________________________________________________\n",
      "dense_5 (Dense)              (None, 10)                170       \n",
      "=================================================================\n",
      "Total params: 13,002\n",
      "Trainable params: 13,002\n",
      "Non-trainable params: 0\n",
      "_________________________________________________________________\n"
     ]
    }
   ],
   "source": [
    "model.summary()"
   ]
  },
  {
   "cell_type": "code",
   "execution_count": 15,
   "metadata": {},
   "outputs": [],
   "source": [
    "# alternative you can add separately the softmax activation as well as you can name the layers\n",
    "\n",
    "\n",
    "# Build the Sequential feedforward neural network model\n",
    "\n",
    "model = Sequential([\n",
    "    Flatten(input_shape=(28,28)),\n",
    "    Dense(16, activation='relu', name='layer_1'), \n",
    "    Dense(16, activation='relu'), \n",
    "    Dense(10),\n",
    "    Softmax() \n",
    "])"
   ]
  },
  {
   "cell_type": "code",
   "execution_count": 16,
   "metadata": {},
   "outputs": [
    {
     "name": "stdout",
     "output_type": "stream",
     "text": [
      "Model: \"sequential_3\"\n",
      "_________________________________________________________________\n",
      "Layer (type)                 Output Shape              Param #   \n",
      "=================================================================\n",
      "flatten_2 (Flatten)          (None, 784)               0         \n",
      "_________________________________________________________________\n",
      "layer_1 (Dense)              (None, 16)                12560     \n",
      "_________________________________________________________________\n",
      "dense_9 (Dense)              (None, 16)                272       \n",
      "_________________________________________________________________\n",
      "dense_10 (Dense)             (None, 10)                170       \n",
      "_________________________________________________________________\n",
      "softmax_1 (Softmax)          (None, 10)                0         \n",
      "=================================================================\n",
      "Total params: 13,002\n",
      "Trainable params: 13,002\n",
      "Non-trainable params: 0\n",
      "_________________________________________________________________\n"
     ]
    }
   ],
   "source": [
    "model.summary()"
   ]
  },
  {
   "cell_type": "markdown",
   "metadata": {},
   "source": [
    "***\n",
    "<a id=\"coding_tutorial_2\"></a>\n",
    "## Convolutional and pooling layers"
   ]
  },
  {
   "cell_type": "code",
   "execution_count": 17,
   "metadata": {},
   "outputs": [],
   "source": [
    "from tensorflow.keras.models import Sequential\n",
    "from tensorflow.keras.layers import Dense, Flatten, Conv2D, MaxPooling2D"
   ]
  },
  {
   "cell_type": "markdown",
   "metadata": {},
   "source": [
    "#### Build a convolutional neural network model"
   ]
  },
  {
   "cell_type": "code",
   "execution_count": 21,
   "metadata": {},
   "outputs": [],
   "source": [
    "# Build the Sequential convolutional neural network model\n",
    "\n",
    "# 16 channels 3x3 kernel\n",
    "# Max Pooling 3x3\n",
    "# Flatten with a fully connected layer of 10 neurons and softmax activation function\n",
    "model = Sequential([\n",
    "    Conv2D(16, (3,3), activation='relu', input_shape=(28,28,1)),\n",
    "    MaxPooling2D((3,3)),\n",
    "    Flatten(),\n",
    "    Dense(10, activation='softmax')\n",
    "])"
   ]
  },
  {
   "cell_type": "code",
   "execution_count": 22,
   "metadata": {},
   "outputs": [
    {
     "name": "stdout",
     "output_type": "stream",
     "text": [
      "Model: \"sequential_6\"\n",
      "_________________________________________________________________\n",
      "Layer (type)                 Output Shape              Param #   \n",
      "=================================================================\n",
      "conv2d_2 (Conv2D)            (None, 26, 26, 16)        160       \n",
      "_________________________________________________________________\n",
      "max_pooling2d_1 (MaxPooling2 (None, 8, 8, 16)          0         \n",
      "_________________________________________________________________\n",
      "flatten_3 (Flatten)          (None, 1024)              0         \n",
      "_________________________________________________________________\n",
      "dense_11 (Dense)             (None, 10)                10250     \n",
      "=================================================================\n",
      "Total params: 10,410\n",
      "Trainable params: 10,410\n",
      "Non-trainable params: 0\n",
      "_________________________________________________________________\n"
     ]
    }
   ],
   "source": [
    "# Print the model summary\n",
    "\n",
    "model.summary()"
   ]
  },
  {
   "cell_type": "code",
   "execution_count": 23,
   "metadata": {},
   "outputs": [
    {
     "name": "stdout",
     "output_type": "stream",
     "text": [
      "Model: \"sequential_7\"\n",
      "_________________________________________________________________\n",
      "Layer (type)                 Output Shape              Param #   \n",
      "=================================================================\n",
      "conv2d_3 (Conv2D)            (None, 28, 28, 16)        160       \n",
      "_________________________________________________________________\n",
      "max_pooling2d_2 (MaxPooling2 (None, 9, 9, 16)          0         \n",
      "_________________________________________________________________\n",
      "flatten_4 (Flatten)          (None, 1296)              0         \n",
      "_________________________________________________________________\n",
      "dense_12 (Dense)             (None, 10)                12970     \n",
      "=================================================================\n",
      "Total params: 13,130\n",
      "Trainable params: 13,130\n",
      "Non-trainable params: 0\n",
      "_________________________________________________________________\n"
     ]
    }
   ],
   "source": [
    "# Build the Sequential convolutional neural network model\n",
    "\n",
    "# Adding a padding layer , you can also add 'strides=2' for example\n",
    "# 16 channels 3x3 kernel\n",
    "# Max Pooling 3x3\n",
    "# Flatten with a fully connected layer of 10 neurons and softmax activation function\n",
    "model = Sequential([\n",
    "    Conv2D(16, (3,3), activation='relu', padding='SAME',input_shape=(28,28,1)),\n",
    "    MaxPooling2D((3,3)),\n",
    "    Flatten(),\n",
    "    Dense(10, activation='softmax')\n",
    "])\n",
    "\n",
    "model.summary()"
   ]
  },
  {
   "cell_type": "markdown",
   "metadata": {},
   "source": [
    "you can also add the data_format='channel_first' where the defaul is 'channel_last'. In this case, we should change the input shape from eg `(28,28,1)` to `(1,28,28)` and we should add it to the MaxPooling2D"
   ]
  },
  {
   "cell_type": "markdown",
   "metadata": {},
   "source": [
    "***\n",
    "<a id=\"coding_tutorial_3\"></a>\n",
    "## The compile method"
   ]
  },
  {
   "cell_type": "markdown",
   "metadata": {},
   "source": [
    "#### Compile the model"
   ]
  },
  {
   "cell_type": "code",
   "execution_count": 27,
   "metadata": {},
   "outputs": [],
   "source": [
    "# Define the model optimizer, loss function and metrics\n",
    "\n",
    "model.compile(optimizer='adam', #sgd etc\n",
    "             loss='sparse_categorical_crossentropy',\n",
    "             metrics=['accuracy'])"
   ]
  },
  {
   "cell_type": "code",
   "execution_count": 28,
   "metadata": {},
   "outputs": [
    {
     "name": "stdout",
     "output_type": "stream",
     "text": [
      "sparse_categorical_crossentropy\n",
      "<tensorflow.python.keras.optimizer_v2.adam.Adam object at 0x7fce506c3d68>\n",
      "[<tensorflow.python.keras.metrics.MeanMetricWrapper object at 0x7fce506d0ba8>]\n"
     ]
    }
   ],
   "source": [
    "# Print the resulting model attributes\n",
    "\n",
    "print(model.loss)\n",
    "print(model.optimizer)\n",
    "print(model.metrics)"
   ]
  },
  {
   "cell_type": "code",
   "execution_count": null,
   "metadata": {},
   "outputs": [],
   "source": [
    "# parametrize the optimizer or the accuracy\n",
    "\n",
    "opt = tf.keras.optimizers.Adam(learning_rate=0.005)\n",
    "\n",
    "acc = tf.keras.metrics.SparseCategoricalAccuracy()\n",
    "mae = tf.keras.metrics.MeanAbsoluteError()"
   ]
  },
  {
   "cell_type": "markdown",
   "metadata": {},
   "source": [
    "***\n",
    "<a id=\"coding_tutorial_4\"></a>\n",
    "## The fit method"
   ]
  },
  {
   "cell_type": "code",
   "execution_count": 36,
   "metadata": {},
   "outputs": [],
   "source": [
    "from tensorflow.keras.preprocessing import image\n",
    "import matplotlib.pyplot as plt\n",
    "import numpy as np\n",
    "import pandas as pd"
   ]
  },
  {
   "cell_type": "markdown",
   "metadata": {},
   "source": [
    "#### Load the data"
   ]
  },
  {
   "cell_type": "code",
   "execution_count": 29,
   "metadata": {},
   "outputs": [
    {
     "name": "stdout",
     "output_type": "stream",
     "text": [
      "Downloading data from https://storage.googleapis.com/tensorflow/tf-keras-datasets/train-labels-idx1-ubyte.gz\n",
      "32768/29515 [=================================] - 0s 0us/step\n",
      "Downloading data from https://storage.googleapis.com/tensorflow/tf-keras-datasets/train-images-idx3-ubyte.gz\n",
      "26427392/26421880 [==============================] - 0s 0us/step\n",
      "Downloading data from https://storage.googleapis.com/tensorflow/tf-keras-datasets/t10k-labels-idx1-ubyte.gz\n",
      "8192/5148 [===============================================] - 0s 0us/step\n",
      "Downloading data from https://storage.googleapis.com/tensorflow/tf-keras-datasets/t10k-images-idx3-ubyte.gz\n",
      "4423680/4422102 [==============================] - 0s 0us/step\n"
     ]
    }
   ],
   "source": [
    "# Load the Fashion-MNIST dataset\n",
    "\n",
    "fashion_mnist_data = tf.keras.datasets.fashion_mnist\n",
    "(train_images, train_labels), (test_images, test_labels) = fashion_mnist_data.load_data()"
   ]
  },
  {
   "cell_type": "code",
   "execution_count": 33,
   "metadata": {},
   "outputs": [
    {
     "name": "stdout",
     "output_type": "stream",
     "text": [
      "(60000, 28, 28)\n",
      "(60000,)\n"
     ]
    }
   ],
   "source": [
    "# Print the shape of the training data\n",
    "\n",
    "print(train_images.shape)\n",
    "print(train_labels.shape)"
   ]
  },
  {
   "cell_type": "code",
   "execution_count": 41,
   "metadata": {},
   "outputs": [],
   "source": [
    "# Define the labels\n",
    "\n",
    "labels = [\n",
    "    'T-shirt/top',\n",
    "    'Trouser',\n",
    "    'Pullover',\n",
    "    'Dress',\n",
    "    'Coat',\n",
    "    'Sandal',\n",
    "    'Shirt',\n",
    "    'Sneaker',\n",
    "    'Bag',\n",
    "    'Ankle boot'\n",
    "]"
   ]
  },
  {
   "cell_type": "code",
   "execution_count": 42,
   "metadata": {},
   "outputs": [],
   "source": [
    "# Rescale the image values so that they lie in between 0 and 1.\n",
    "train_images = train_images/255.0\n",
    "test_images = test_images/255.0"
   ]
  },
  {
   "cell_type": "code",
   "execution_count": 43,
   "metadata": {},
   "outputs": [
    {
     "data": {
      "image/png": "[encoded data removed]",
      "text/plain": [
       "<Figure size 432x288 with 1 Axes>"
      ]
     },
     "metadata": {
      "needs_background": "light"
     },
     "output_type": "display_data"
    },
    {
     "name": "stdout",
     "output_type": "stream",
     "text": [
      "label: Ankle boot\n"
     ]
    }
   ],
   "source": [
    "# Display one of the images\n",
    "\n",
    "i = 0\n",
    "img = train_images[i,:,:]\n",
    "plt.imshow(img)\n",
    "plt.show()\n",
    "print(f'label: {labels[train_labels[i]]}')"
   ]
  },
  {
   "cell_type": "markdown",
   "metadata": {},
   "source": [
    "#### Build the CNN Model"
   ]
  },
  {
   "cell_type": "code",
   "execution_count": 44,
   "metadata": {},
   "outputs": [],
   "source": [
    "model = Sequential([\n",
    "    Conv2D(16, (3,3), activation='relu', input_shape=(28,28,1)),\n",
    "    MaxPooling2D((3,3)),\n",
    "    Flatten(),\n",
    "    Dense(10, activation='softmax')\n",
    "])"
   ]
  },
  {
   "cell_type": "markdown",
   "metadata": {},
   "source": [
    "#### Complie the Model"
   ]
  },
  {
   "cell_type": "code",
   "execution_count": 49,
   "metadata": {},
   "outputs": [],
   "source": [
    "model.compile(optimizer='adam', #sgd etc\n",
    "             loss='sparse_categorical_crossentropy',\n",
    "             metrics=['accuracy'])"
   ]
  },
  {
   "cell_type": "markdown",
   "metadata": {},
   "source": [
    "#### Fit the model"
   ]
  },
  {
   "cell_type": "code",
   "execution_count": 50,
   "metadata": {},
   "outputs": [
    {
     "data": {
      "text/plain": [
       "(60000, 28, 28, 1)"
      ]
     },
     "execution_count": 50,
     "metadata": {},
     "output_type": "execute_result"
    }
   ],
   "source": [
    "train_images[...,np.newaxis].shape"
   ]
  },
  {
   "cell_type": "code",
   "execution_count": 52,
   "metadata": {},
   "outputs": [
    {
     "name": "stdout",
     "output_type": "stream",
     "text": [
      "Train on 60000 samples\n",
      "Epoch 1/8\n",
      "60000/60000 [==============================] - 51s 858us/sample - loss: 1.2626 - accuracy: 0.6541\n",
      "Epoch 2/8\n",
      "60000/60000 [==============================] - 51s 843us/sample - loss: 1.0360 - accuracy: 0.6748\n",
      "Epoch 3/8\n",
      "60000/60000 [==============================] - 50s 835us/sample - loss: 0.9219 - accuracy: 0.6908\n",
      "Epoch 4/8\n",
      "60000/60000 [==============================] - 50s 837us/sample - loss: 0.8543 - accuracy: 0.7028\n",
      "Epoch 5/8\n",
      "60000/60000 [==============================] - 50s 837us/sample - loss: 0.8096 - accuracy: 0.7139\n",
      "Epoch 6/8\n",
      "60000/60000 [==============================] - 49s 823us/sample - loss: 0.7762 - accuracy: 0.7214\n",
      "Epoch 7/8\n",
      "60000/60000 [==============================] - 52s 858us/sample - loss: 0.7496 - accuracy: 0.7292\n",
      "Epoch 8/8\n",
      "60000/60000 [==============================] - 49s 825us/sample - loss: 0.7284 - accuracy: 0.7357\n"
     ]
    }
   ],
   "source": [
    "# Fit the model\n",
    "\n",
    "history = model.fit(train_images[...,np.newaxis], train_labels, epochs=8, batch_size=256)"
   ]
  },
  {
   "cell_type": "markdown",
   "metadata": {},
   "source": [
    "#### Plot training history"
   ]
  },
  {
   "cell_type": "code",
   "execution_count": 54,
   "metadata": {},
   "outputs": [
    {
     "data": {
      "text/html": [
       "<div>\n",
       "<style scoped>\n",
       "    .dataframe tbody tr th:only-of-type {\n",
       "        vertical-align: middle;\n",
       "    }\n",
       "\n",
       "    .dataframe tbody tr th {\n",
       "        vertical-align: top;\n",
       "    }\n",
       "\n",
       "    .dataframe thead th {\n",
       "        text-align: right;\n",
       "    }\n",
       "</style>\n",
       "<table border=\"1\" class=\"dataframe\">\n",
       "  <thead>\n",
       "    <tr style=\"text-align: right;\">\n",
       "      <th></th>\n",
       "      <th>loss</th>\n",
       "      <th>accuracy</th>\n",
       "    </tr>\n",
       "  </thead>\n",
       "  <tbody>\n",
       "    <tr>\n",
       "      <th>0</th>\n",
       "      <td>1.262607</td>\n",
       "      <td>0.654083</td>\n",
       "    </tr>\n",
       "    <tr>\n",
       "      <th>1</th>\n",
       "      <td>1.036043</td>\n",
       "      <td>0.674767</td>\n",
       "    </tr>\n",
       "    <tr>\n",
       "      <th>2</th>\n",
       "      <td>0.921876</td>\n",
       "      <td>0.690783</td>\n",
       "    </tr>\n",
       "    <tr>\n",
       "      <th>3</th>\n",
       "      <td>0.854287</td>\n",
       "      <td>0.702800</td>\n",
       "    </tr>\n",
       "    <tr>\n",
       "      <th>4</th>\n",
       "      <td>0.809606</td>\n",
       "      <td>0.713883</td>\n",
       "    </tr>\n",
       "    <tr>\n",
       "      <th>5</th>\n",
       "      <td>0.776156</td>\n",
       "      <td>0.721383</td>\n",
       "    </tr>\n",
       "    <tr>\n",
       "      <th>6</th>\n",
       "      <td>0.749587</td>\n",
       "      <td>0.729217</td>\n",
       "    </tr>\n",
       "    <tr>\n",
       "      <th>7</th>\n",
       "      <td>0.728448</td>\n",
       "      <td>0.735683</td>\n",
       "    </tr>\n",
       "  </tbody>\n",
       "</table>\n",
       "</div>"
      ],
      "text/plain": [
       "       loss  accuracy\n",
       "0  1.262607  0.654083\n",
       "1  1.036043  0.674767\n",
       "2  0.921876  0.690783\n",
       "3  0.854287  0.702800\n",
       "4  0.809606  0.713883\n",
       "5  0.776156  0.721383\n",
       "6  0.749587  0.729217\n",
       "7  0.728448  0.735683"
      ]
     },
     "execution_count": 54,
     "metadata": {},
     "output_type": "execute_result"
    }
   ],
   "source": [
    "# Load the history into a pandas Dataframe\n",
    "\n",
    "df = pd.DataFrame(history.history)\n",
    "df"
   ]
  },
  {
   "cell_type": "code",
   "execution_count": 55,
   "metadata": {},
   "outputs": [
    {
     "data": {
      "text/plain": [
       "[Text(0, 0.5, 'Loss'), Text(0.5, 0, 'Epochs')]"
      ]
     },
     "execution_count": 55,
     "metadata": {},
     "output_type": "execute_result"
    },
    {
     "data": {
      "image/png": "[encoded data removed]",
      "text/plain": [
       "<Figure size 432x288 with 1 Axes>"
      ]
     },
     "metadata": {
      "needs_background": "light"
     },
     "output_type": "display_data"
    }
   ],
   "source": [
    "# Make a plot for the loss\n",
    "\n",
    "loss_plot = df.plot(y='loss', title='Loss vs Epochs', legend=False)\n",
    "loss_plot.set(xlabel='Epochs', ylabel='Loss')"
   ]
  },
  {
   "cell_type": "code",
   "execution_count": 57,
   "metadata": {},
   "outputs": [
    {
     "data": {
      "text/plain": [
       "[Text(0, 0.5, 'accuracy'), Text(0.5, 0, 'Epochs')]"
      ]
     },
     "execution_count": 57,
     "metadata": {},
     "output_type": "execute_result"
    },
    {
     "data": {
      "image/png": "[encoded data removed]",
      "text/plain": [
       "<Figure size 432x288 with 1 Axes>"
      ]
     },
     "metadata": {
      "needs_background": "light"
     },
     "output_type": "display_data"
    }
   ],
   "source": [
    "# Make a plot for the accuracy\n",
    "\n",
    "\n",
    "accuracy_plot = df.plot(y='accuracy', title='Loss vs Accuracy', legend=False)\n",
    "accuracy_plot.set(xlabel='Epochs', ylabel='accuracy')"
   ]
  },
  {
   "cell_type": "markdown",
   "metadata": {},
   "source": [
    "***\n",
    "<a id=\"coding_tutorial_5\"></a>\n",
    "## The evaluate and predict methods"
   ]
  },
  {
   "cell_type": "code",
   "execution_count": 58,
   "metadata": {},
   "outputs": [],
   "source": [
    "import matplotlib.pyplot as plt\n",
    "import numpy as np"
   ]
  },
  {
   "cell_type": "markdown",
   "metadata": {},
   "source": [
    "#### Evaluate the model on the test set"
   ]
  },
  {
   "cell_type": "code",
   "execution_count": 63,
   "metadata": {},
   "outputs": [
    {
     "name": "stdout",
     "output_type": "stream",
     "text": [
      "10000/1 - 6s - loss: 0.5551 - accuracy: 0.7299\n"
     ]
    },
    {
     "data": {
      "text/plain": [
       "[0.7354763784885406, 0.7299]"
      ]
     },
     "execution_count": 63,
     "metadata": {},
     "output_type": "execute_result"
    }
   ],
   "source": [
    "# Evaluate the model\n",
    "\n",
    "model.evaluate(test_images[...,np.newaxis], test_labels, verbose=2)"
   ]
  },
  {
   "cell_type": "markdown",
   "metadata": {},
   "source": [
    "#### Make predictions from the model"
   ]
  },
  {
   "cell_type": "code",
   "execution_count": 71,
   "metadata": {},
   "outputs": [
    {
     "data": {
      "image/png": "[encoded data removed]",
      "text/plain": [
       "<Figure size 432x288 with 1 Axes>"
      ]
     },
     "metadata": {
      "needs_background": "light"
     },
     "output_type": "display_data"
    },
    {
     "name": "stdout",
     "output_type": "stream",
     "text": [
      "Label: Sneaker\n"
     ]
    }
   ],
   "source": [
    "# Choose a random test image\n",
    "\n",
    "random_inx = np.random.choice(test_images.shape[0])\n",
    "\n",
    "test_image = test_images[random_inx]\n",
    "plt.imshow(test_image)\n",
    "plt.show()\n",
    "print(f\"Label: {labels[test_labels[random_inx]]}\")"
   ]
  },
  {
   "cell_type": "code",
   "execution_count": 72,
   "metadata": {},
   "outputs": [
    {
     "name": "stdout",
     "output_type": "stream",
     "text": [
      "Model Prediction: Sneaker\n"
     ]
    }
   ],
   "source": [
    "# Get the model predictions\n",
    "\n",
    "predictions = model.predict(test_image[np.newaxis,...,np.newaxis])\n",
    "print(f'Model Prediction: {labels[np.argmax(predictions)]}')"
   ]
  },
  {
   "cell_type": "code",
   "execution_count": null,
   "metadata": {},
   "outputs": [],
   "source": []
  }
 ],
 "metadata": {
  "kernelspec": {
   "display_name": "Python 3",
   "language": "python",
   "name": "python3"
  },
  "language_info": {
   "codemirror_mode": {
    "name": "ipython",
    "version": 3
   },
   "file_extension": ".py",
   "mimetype": "text/x-python",
   "name": "python",
   "nbconvert_exporter": "python",
   "pygments_lexer": "ipython3",
   "version": "3.8.5"
  }
 },
 "nbformat": 4,
 "nbformat_minor": 2
}
